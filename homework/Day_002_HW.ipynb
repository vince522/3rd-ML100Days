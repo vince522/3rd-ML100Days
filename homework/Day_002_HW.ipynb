{
 "cells": [
  {
   "cell_type": "markdown",
   "metadata": {},
   "source": [
    "## [作業目標]\n",
    "了解機器學習適合應用的領域與範疇。"
   ]
  },
  {
   "cell_type": "markdown",
   "metadata": {},
   "source": [
    "## [作業重點]\n",
    "透過瞭解機器學習的運作方式，找出非常適用機器學習應用的領域及其原因"
   ]
  },
  {
   "cell_type": "markdown",
   "metadata": {},
   "source": [
    "## 作業\n",
    "請找出一個你認為機器學習可以發光發熱的領域並闡述原因? "
   ]
  },
  {
   "cell_type": "code",
   "execution_count": null,
   "metadata": {},
   "outputs": [],
   "source": [
    "投資這塊領域\n",
    "小額投資\n",
    "可以讓銀行降低成本，也可以讓投資人的門檻越來越低\n",
    "隨著時間的推進，數據量越來越大，機器學習所蒐集的資料量大，分析也會越來越精準，報酬率勢必會越來越高，大家就會對機器人理財更有信心，就會拿更多的資金去投注在投資理財這塊!\n",
    "大額投資\n",
    "高資產客戶的每個情況可能會比較特殊，還是需要更專業的顧問公司去諮詢，但仍可結合投資機器人，因為這樣可以做更全面的理財規劃，再由專業的投資顧問去做調整。"
   ]
  }
 ],
 "metadata": {
  "kernelspec": {
   "display_name": "Python 3",
   "language": "python",
   "name": "python3"
  },
  "language_info": {
   "codemirror_mode": {
    "name": "ipython",
    "version": 3
   },
   "file_extension": ".py",
   "mimetype": "text/x-python",
   "name": "python",
   "nbconvert_exporter": "python",
   "pygments_lexer": "ipython3",
   "version": "3.7.3"
  }
 },
 "nbformat": 4,
 "nbformat_minor": 2
}
